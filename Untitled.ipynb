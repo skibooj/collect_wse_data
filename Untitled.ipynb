{
 "cells": [
  {
   "cell_type": "code",
   "execution_count": 2,
   "id": "d25c4838-34d0-4f07-b05f-b91b8faa320d",
   "metadata": {},
   "outputs": [],
   "source": [
    "from pathlib import Path\n",
    "import os"
   ]
  },
  {
   "cell_type": "code",
   "execution_count": 6,
   "id": "9796c7cf-cd10-4d2a-8976-8ff757e789d5",
   "metadata": {},
   "outputs": [],
   "source": [
    "p = Path('./D_data/')\n",
    "b = [x for x in p.iterdir() if x.is_dir()]\n",
    "\n",
    "for element in b:\n",
    "    a = list(element.glob('*.xls'))\n",
    "c= a[1]"
   ]
  },
  {
   "cell_type": "code",
   "execution_count": 11,
   "id": "4c2dd349-f935-444c-8624-c71fa0c04407",
   "metadata": {},
   "outputs": [
    {
     "data": {
      "text/plain": [
       "'10'"
      ]
     },
     "execution_count": 11,
     "metadata": {},
     "output_type": "execute_result"
    }
   ],
   "source": [
    "c.parts[1]\n"
   ]
  },
  {
   "cell_type": "code",
   "execution_count": null,
   "id": "05ad6f97-af14-410a-a455-cf8fb9f0c8be",
   "metadata": {},
   "outputs": [],
   "source": [
    "\n",
    "def merge_data(folder_dir: str = None): \n",
    "    \n",
    "    if folder_dir == None:\n",
    "        folder_dir = 'D_data'\n",
    "\n",
    "    path_to_check = Path(f'./{folder_dir}/')\n",
    "    list_of_folders = [x for x in path_to_check.iterdir() if x.is_dir()]\n",
    "    \n",
    "    final_data = pd.DataFrame()\n",
    "    error_list = []\n",
    "    current_date = pd.to_datetime(\"today\").strftime(\"%d-%m-%Y\")\n",
    "\n",
    "    for financial_instrument in list_of_folders:\n",
    "\n",
    "        files_list = financial_instrument.glob('*.xls')\n",
    "\n",
    "        for file in files_list:\n",
    "            try:\n",
    "                final_data = final_data.append(pd.read_excel(file), ignore_index=True)\n",
    "            except ValueError:\n",
    "                print(f\"{file} --- Error: there was an error\")\n",
    "                error_list.append(file)\n",
    "        \n",
    "        error_final_p = Path('./error_logs',)\n",
    "        final_data_p = Path('./merged_files',)\n",
    "        #pd.DataFrame(error_list).to_csv(f\"./error_logs/{current_date}_error_logs_{}.csv\")\n",
    "        #final_data.to_csv(f\"./merged_files/{current_date}_merged_data_{}.csv\", index= False)\n",
    "        \n",
    "    pass "
   ]
  },
  {
   "cell_type": "code",
   "execution_count": 22,
   "id": "80efe768-3c5a-4430-bdde-66c2d1e9dca8",
   "metadata": {},
   "outputs": [
    {
     "data": {
      "text/plain": [
       "'2021-01-01_error_logs_10.csv'"
      ]
     },
     "execution_count": 22,
     "metadata": {},
     "output_type": "execute_result"
    }
   ],
   "source": [
    "folder_dir\n",
    "\n",
    "if folder_dir == None:\n",
    "        folder_dir = 'D_data'\n",
    "\n",
    "path_to_check = Path(f'./{folder_dir}')\n",
    "\n",
    "list_of_folders = [x for x in path_to_check.iterdir() if x.is_dir()]\n",
    "\n",
    "for financial_instrument in list_of_folders:\n",
    "        files_list = financial_instrument.glob('*.xls')\n",
    "        current_date = '2021-01-01'\n",
    "        error_file_path = f\"{current_date}_error_logs_{financial_instrument.parts[1]}.csv\" #get instrument number from path\n",
    "        \n",
    "        error_final_p = Path('./error_logs',financial_instrument.parts[1])\n",
    "        final_data_p = Path('./merged_files',)\n",
    "        \n",
    "\n",
    "error_file_path"
   ]
  }
 ],
 "metadata": {
  "kernelspec": {
   "display_name": "Python 3 (ipykernel)",
   "language": "python",
   "name": "python3"
  },
  "language_info": {
   "codemirror_mode": {
    "name": "ipython",
    "version": 3
   },
   "file_extension": ".py",
   "mimetype": "text/x-python",
   "name": "python",
   "nbconvert_exporter": "python",
   "pygments_lexer": "ipython3",
   "version": "3.8.11"
  }
 },
 "nbformat": 4,
 "nbformat_minor": 5
}
