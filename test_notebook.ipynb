{
 "cells": [
  {
   "cell_type": "code",
   "execution_count": 10,
   "metadata": {},
   "outputs": [
    {
     "data": {
      "text/plain": [
       "['./D_data/1/2021-07-23.xls',\n",
       " './D_data/1/2021-07-02.xls',\n",
       " './D_data/1/2021-07-20.xls',\n",
       " './D_data/1/2021-07-06.xls',\n",
       " './D_data/1/2021-07-12.xls',\n",
       " './D_data/1/2021-07-25.xls',\n",
       " './D_data/1/2021-07-22.xls',\n",
       " './D_data/1/2021-07-18.xls',\n",
       " './D_data/1/2021-07-03.xls',\n",
       " './D_data/1/2021-07-05.xls',\n",
       " './D_data/1/2021-07-04.xls',\n",
       " './D_data/1/2021-07-21.xls',\n",
       " './D_data/1/2021-07-27.xls',\n",
       " './D_data/1/2021-07-09.xls',\n",
       " './D_data/1/2021-07-15.xls',\n",
       " './D_data/1/2021-07-14.xls',\n",
       " './D_data/1/2021-07-10.xls',\n",
       " './D_data/1/2021-07-19.xls',\n",
       " './D_data/1/2021-07-17.xls',\n",
       " './D_data/1/2021-07-30.xls',\n",
       " './D_data/1/2021-07-31.xls',\n",
       " './D_data/1/2021-07-16.xls',\n",
       " './D_data/1/2021-07-07.xls',\n",
       " './D_data/1/2021-07-13.xls',\n",
       " './D_data/1/2021-07-26.xls',\n",
       " './D_data/1/2021-07-01.xls',\n",
       " './D_data/1/2021-07-08.xls',\n",
       " './D_data/1/2021-07-24.xls',\n",
       " './D_data/1/2021-07-28.xls',\n",
       " './D_data/1/2021-07-29.xls',\n",
       " './D_data/1/2021-07-11.xls']"
      ]
     },
     "execution_count": 10,
     "metadata": {},
     "output_type": "execute_result"
    }
   ],
   "source": [
    "import os\n",
    "import glob\n",
    "#os.listdir(\"./D_data/1\")\n",
    "sheets = glob.glob(\"./D_data/{kind_of_element}/*.xls\")"
   ]
  }
 ],
 "metadata": {
  "interpreter": {
   "hash": "1473765b7852d424880e4aaaaa082e523cc18828b5569897812fd4715a1851b3"
  },
  "kernelspec": {
   "display_name": "Python 3.8.8 64-bit ('base': conda)",
   "name": "python3"
  },
  "language_info": {
   "name": "python",
   "version": ""
  },
  "orig_nbformat": 4
 },
 "nbformat": 4,
 "nbformat_minor": 2
}